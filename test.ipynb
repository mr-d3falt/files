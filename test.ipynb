{
 "cells": [
  {
   "cell_type": "code",
   "execution_count": 1,
   "id": "2397c406-f554-450d-a0dc-0000938871cf",
   "metadata": {},
   "outputs": [
    {
     "name": "stdout",
     "output_type": "stream",
     "text": [
      "Hello World!\n"
     ]
    }
   ],
   "source": [
    "print('Hello World!')"
   ]
  },
  {
   "cell_type": "code",
   "execution_count": 6,
   "id": "48c66bdc-c754-41cf-8358-dc92b490ce58",
   "metadata": {},
   "outputs": [
    {
     "name": "stdout",
     "output_type": "stream",
     "text": [
      "Reinitialized existing Git repository in /home/o.nuruzade/nexus/.git/\n",
      "On branch master\n",
      "Untracked files:\n",
      "  (use \"git add <file>...\" to include in what will be committed)\n",
      "\t\u001b[31m.ipynb_checkpoints/\u001b[m\n",
      "\t\u001b[31mFlights_Meteo_Interpolator.py\u001b[m\n",
      "\t\u001b[31marchive.sh\u001b[m\n",
      "\t\u001b[31minterp_flights.sh\u001b[m\n",
      "\t\u001b[31minterpolated_flights_Dec_engines.zip\u001b[m\n",
      "\t\u001b[31minterpolated_flights_Feb_engines.zip\u001b[m\n",
      "\t\u001b[31minterpolated_flights_Jan_engines.zip\u001b[m\n",
      "\t\u001b[31minterpolated_flights_Mar_engines.zip\u001b[m\n",
      "\n",
      "nothing added to commit but untracked files present (use \"git add\" to track)\n",
      "fatal: 'origin' does not appear to be a git repository\n",
      "fatal: Could not read from remote repository.\n",
      "\n",
      "Please make sure you have the correct access rights\n",
      "and the repository exists.\n"
     ]
    }
   ],
   "source": [
    "!git config --global user.email \"arich145aa@gmail.com\"\n",
    "\n",
    "!git init\n",
    "!git add test.ipynb\n",
    "\n",
    "!git commit -m \"Added main.ipynb\"\n",
    "!git push origin HEAD:master"
   ]
  }
 ],
 "metadata": {
  "kernelspec": {
   "display_name": "Python 3 (ipykernel)",
   "language": "python",
   "name": "python3"
  },
  "language_info": {
   "codemirror_mode": {
    "name": "ipython",
    "version": 3
   },
   "file_extension": ".py",
   "mimetype": "text/x-python",
   "name": "python",
   "nbconvert_exporter": "python",
   "pygments_lexer": "ipython3",
   "version": "3.9.0"
  }
 },
 "nbformat": 4,
 "nbformat_minor": 5
}
