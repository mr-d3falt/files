{
 "cells": [
  {
   "cell_type": "code",
   "execution_count": 1,
   "id": "2397c406-f554-450d-a0dc-0000938871cf",
   "metadata": {},
   "outputs": [
    {
     "name": "stdout",
     "output_type": "stream",
     "text": [
      "Hello World!\n"
     ]
    }
   ],
   "source": [
    "print('Hello World!')"
   ]
  },
  {
   "cell_type": "code",
   "execution_count": 8,
   "id": "48c66bdc-c754-41cf-8358-dc92b490ce58",
   "metadata": {},
   "outputs": [
    {
     "name": "stdout",
     "output_type": "stream",
     "text": [
      "Reinitialized existing Git repository in /home/o.nuruzade/nexus/.git/\n",
      "fatal: remote origin already exists.\n",
      "On branch master\n",
      "Untracked files:\n",
      "  (use \"git add <file>...\" to include in what will be committed)\n",
      "\t\u001b[31m.ipynb_checkpoints/\u001b[m\n",
      "\t\u001b[31mFlights_Meteo_Interpolator.py\u001b[m\n",
      "\t\u001b[31marchive.sh\u001b[m\n",
      "\t\u001b[31minterp_flights.sh\u001b[m\n",
      "\t\u001b[31minterpolated_flights_Dec_engines.zip\u001b[m\n",
      "\t\u001b[31minterpolated_flights_Feb_engines.zip\u001b[m\n",
      "\t\u001b[31minterpolated_flights_Jan_engines.zip\u001b[m\n",
      "\t\u001b[31minterpolated_flights_Mar_engines.zip\u001b[m\n",
      "\n",
      "nothing added to commit but untracked files present (use \"git add\" to track)\n",
      "The authenticity of host 'github.com (140.82.121.4)' can't be established.\n",
      "ECDSA key fingerprint is SHA256:p2QAMXNIC1TJYWeIOttrVc98/R1BUFWu3/LiyKgUfQM.\n",
      "Are you sure you want to continue connecting (yes/no/[fingerprint])? ^C\n"
     ]
    }
   ],
   "source": [
    "!git config --global user.email \"arich145aa@gmail.com\"\n",
    "\n",
    "!git init\n",
    "!git add test.ipynb\n",
    "!git remote add origin git@github.com:mr-d3falt/NEXUS_BACKUP.git\n",
    "!git commit -m \"Added main.ipynb\"\n",
    "!git push origin HEAD:master"
   ]
  }
 ],
 "metadata": {
  "kernelspec": {
   "display_name": "Python 3 (ipykernel)",
   "language": "python",
   "name": "python3"
  },
  "language_info": {
   "codemirror_mode": {
    "name": "ipython",
    "version": 3
   },
   "file_extension": ".py",
   "mimetype": "text/x-python",
   "name": "python",
   "nbconvert_exporter": "python",
   "pygments_lexer": "ipython3",
   "version": "3.9.0"
  }
 },
 "nbformat": 4,
 "nbformat_minor": 5
}
